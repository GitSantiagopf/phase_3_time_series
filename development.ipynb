{
 "cells": [
  {
   "cell_type": "code",
   "execution_count": 1,
   "id": "e7cb82ac",
   "metadata": {},
   "outputs": [],
   "source": [
    "%matplotlib inline\n",
    "\n",
    "import sys\n",
    "import matplotlib\n",
    "import matplotlib.pyplot as plt\n",
    "import numpy as np\n",
    "import pandas as pd\n",
    "import scipy as sc\n",
    "from scipy import signal"
   ]
  },
  {
   "cell_type": "code",
   "execution_count": 2,
   "id": "24e24670",
   "metadata": {},
   "outputs": [],
   "source": [
    "# Para que los gráficos se vean bien\n",
    "plt.rcParams[\"figure.figsize\"] = (12, 6)\n",
    "plt.rcParams[\"axes.grid\"] = True"
   ]
  },
  {
   "cell_type": "code",
   "execution_count": null,
   "id": "6d9fa6c5",
   "metadata": {},
   "outputs": [
    {
     "name": "stdout",
     "output_type": "stream",
     "text": [
      "[ 3.55 -0.55  1.8   1.1 ] [[10.  0.  0.  0.]\n",
      " [ 0. 10.  0.  0.]\n",
      " [ 0.  0. 10.  0.]\n",
      " [ 0.  0.  0. 10.]]\n"
     ]
    }
   ],
   "source": [
    "csv_path = \"Appendix 1 - xy_motion_kalman_filter_example.csv\"\n",
    "df = pd.read_csv(csv_path, header=0)\n",
    "df.columns = [\"x_meas\", \"y_meas\"]\n",
    "z = df[[\"x_meas\",\"y_meas\"]].values.astype(float)\n",
    "\n",
    "vx0 = z[1,0] - z[0,0] if len(z) >= 2 else 0.0\n",
    "vy0 = z[1,1] - z[0,1] if len(z) >= 2 else 0.0\n",
    "x0  = np.array([z[0,0], vx0, z[0,1], vy0], dtype=float)\n",
    "P0  = np.diag([10.0, 10.0, 10.0, 10.0]).astype(float)\n",
    "print(x0, P0)"
   ]
  },
  {
   "cell_type": "code",
   "execution_count": 16,
   "id": "0d75605f",
   "metadata": {},
   "outputs": [
    {
     "name": "stdout",
     "output_type": "stream",
     "text": [
      "[ 3.   -0.55  2.9   1.1 ] \n",
      " [[20.0125 10.025   0.      0.    ]\n",
      " [10.025  10.05    0.      0.    ]\n",
      " [ 0.      0.     20.0125 10.025 ]\n",
      " [ 0.      0.     10.025  10.05  ]]\n"
     ]
    }
   ],
   "source": [
    "dt = 1.0\n",
    "F = np.array([[1, dt, 0,  0],\n",
    "              [0,  1, 0,  0],\n",
    "              [0,  0, 1, dt],\n",
    "              [0,  0, 0,  1]], dtype=float)\n",
    "\n",
    "def Q_cv(q_var, dt=1.0):\n",
    "    dt2, dt3, dt4 = dt**2, dt**3, dt**4\n",
    "    return q_var*np.array([[dt4/4, dt3/2,   0,     0],\n",
    "                           [dt3/2, dt2,     0,     0],\n",
    "                           [0,     0,     dt4/4, dt3/2],\n",
    "                           [0,     0,     dt3/2, dt2 ]], dtype=float)\n",
    "\n",
    "qA, rA = 0.05, 0.05\n",
    "Q_A = Q_cv(qA, dt)\n",
    "R_A = np.eye(2) * rA\n",
    "\n",
    "x_pred = F @ x0\n",
    "P_pred = F @ P0 @ F.T + Q_A\n",
    "print(x_pred, \"\\n\", P_pred)"
   ]
  },
  {
   "cell_type": "code",
   "execution_count": 19,
   "id": "7834ddc5",
   "metadata": {},
   "outputs": [
    {
     "data": {
      "text/plain": [
       "array([[0.99750779, 0.        ],\n",
       "       [0.49968847, 0.        ],\n",
       "       [0.        , 0.99750779],\n",
       "       [0.        , 0.49968847]])"
      ]
     },
     "execution_count": 19,
     "metadata": {},
     "output_type": "execute_result"
    }
   ],
   "source": [
    "H = np.array([[1,0,0,0],\n",
    "              [0,0,1,0]], dtype=float)\n",
    "S = H @ P_pred @ H.T + R_A\n",
    "K = P_pred @ H.T @ np.linalg.inv(S)\n",
    "K"
   ]
  },
  {
   "cell_type": "code",
   "execution_count": 24,
   "id": "6bbecf4c",
   "metadata": {},
   "outputs": [
    {
     "name": "stdout",
     "output_type": "stream",
     "text": [
      "[ 0.55 -1.1 ] \n",
      " [[0.04987539 0.02498442 0.         0.        ]\n",
      " [0.02498442 5.04062305 0.         0.        ]\n",
      " [0.         0.         0.04987539 0.02498442]\n",
      " [0.         0.         0.02498442 5.04062305]]\n"
     ]
    }
   ],
   "source": [
    "z_t = z[0]\n",
    "y = z_t - (H @ x_pred)\n",
    "I = np.eye(4)\n",
    "x_upd = x_pred + K @ y\n",
    "P_upd = (I - K @ H) @ P_pred\n",
    "print(y, \"\\n\", P_upd)"
   ]
  },
  {
   "cell_type": "code",
   "execution_count": 25,
   "id": "3014fac4",
   "metadata": {},
   "outputs": [
    {
     "name": "stdout",
     "output_type": "stream",
     "text": [
      "res_x mean/std: 0.0006405061263257324 0.036958700567728195\n",
      "res_y mean/std: -0.0008060632488082677 0.02827502682648443\n",
      "innov_x mean/std: 0.008307570732296665 0.39896737308241903\n",
      "innov_y mean/std: -0.011421957550428944 0.31537476385883806\n"
     ]
    }
   ],
   "source": [
    "#q=0.5>r=0.05\n",
    "def kf_step(x, P, z_t, F, H, Q, R):\n",
    "    I = np.eye(4)\n",
    "    x_pred = F @ x\n",
    "    P_pred = F @ P @ F.T + Q\n",
    "    y = z_t - (H @ x_pred)\n",
    "    S = H @ P_pred @ H.T + R\n",
    "    K = P_pred @ H.T @ np.linalg.inv(S)\n",
    "    x_upd = x_pred + K @ y\n",
    "    P_upd = (I - K @ H) @ P_pred\n",
    "    return x_pred, P_pred, K, y, x_upd, P_upd\n",
    "\n",
    "def run_kf_series(z, F, H, q_var, r_var, x0, P0, dt=1.0):\n",
    "    Q, R = Q_cv(q_var, dt), np.eye(2)*r_var\n",
    "    n = len(z)\n",
    "    xs = np.zeros((n,4)); Ps = np.zeros((n,4,4))\n",
    "    innovs = np.zeros((n,2))\n",
    "    x, P = x0.copy(), P0.copy()\n",
    "    for t in range(n):\n",
    "        x_pred, P_pred, Kt, y_t, x, P = kf_step(x, P, z[t], F, H, Q, R)\n",
    "        xs[t], Ps[t], innovs[t] = x, P, y_t\n",
    "    return xs, Ps, innovs\n",
    "\n",
    "xs_B, Ps_B, innov_B = run_kf_series(z, F, H, 0.5, 0.05, x0, P0, dt=1.0)\n",
    "res_x_B = z[:,0] - xs_B[:,0]\n",
    "res_y_B = z[:,1] - xs_B[:,2]\n",
    "print(\"res_x mean/std:\", res_x_B.mean(), res_x_B.std())\n",
    "print(\"res_y mean/std:\", res_y_B.mean(), res_y_B.std())\n",
    "print(\"innov_x mean/std:\", innov_B[:,0].mean(), innov_B[:,0].std())\n",
    "print(\"innov_y mean/std:\", innov_B[:,1].mean(), innov_B[:,1].std())\n"
   ]
  },
  {
   "cell_type": "code",
   "execution_count": 26,
   "id": "7cb00451",
   "metadata": {},
   "outputs": [
    {
     "name": "stdout",
     "output_type": "stream",
     "text": [
      "Var(x) initial, final: 0.04987608426270301 0.04534076289364882\n",
      "Innovation mean/std (x,y): (0.008307570732296665, 0.39896737308241903) (-0.011421957550428944, 0.31537476385883806)\n"
     ]
    }
   ],
   "source": [
    "var_x_B = np.array([Ps_B[t,0,0] for t in range(len(Ps_B))])\n",
    "print(\"Var(x) initial, final:\", float(var_x_B[0]), float(var_x_B[-1]))\n",
    "print(\"Innovation mean/std (x,y):\",\n",
    "      (float(innov_B[:,0].mean()), float(innov_B[:,0].std())),\n",
    "      (float(innov_B[:,1].mean()), float(innov_B[:,1].std())))"
   ]
  },
  {
   "cell_type": "code",
   "execution_count": 27,
   "id": "87771494",
   "metadata": {},
   "outputs": [],
   "source": [
    "from scipy.signal import savgol_filter\n",
    "win = 21; poly = 3\n",
    "truth_x = savgol_filter(z[:,0], window_length=win, polyorder=poly, mode='interp')\n",
    "truth_y = savgol_filter(z[:,1], window_length=win, polyorder=poly, mode='interp')\n",
    "truth = np.column_stack([truth_x, truth_y])\n",
    "\n",
    "def rmse(a, b):\n",
    "    return float(np.sqrt(np.mean((np.asarray(a)-np.asarray(b))**2)))\n"
   ]
  },
  {
   "cell_type": "code",
   "execution_count": 28,
   "id": "b195cb69",
   "metadata": {},
   "outputs": [
    {
     "data": {
      "text/html": [
       "<div>\n",
       "<style scoped>\n",
       "    .dataframe tbody tr th:only-of-type {\n",
       "        vertical-align: middle;\n",
       "    }\n",
       "\n",
       "    .dataframe tbody tr th {\n",
       "        vertical-align: top;\n",
       "    }\n",
       "\n",
       "    .dataframe thead th {\n",
       "        text-align: right;\n",
       "    }\n",
       "</style>\n",
       "<table border=\"1\" class=\"dataframe\">\n",
       "  <thead>\n",
       "    <tr style=\"text-align: right;\">\n",
       "      <th></th>\n",
       "      <th>scenario</th>\n",
       "      <th>q</th>\n",
       "      <th>r</th>\n",
       "      <th>RMSE_x(KF,truth)</th>\n",
       "      <th>RMSE_y(KF,truth)</th>\n",
       "      <th>RMSE_x(meas,truth)</th>\n",
       "      <th>RMSE_y(meas,truth)</th>\n",
       "      <th>res_x_mean</th>\n",
       "      <th>res_x_std</th>\n",
       "      <th>res_y_mean</th>\n",
       "      <th>res_y_std</th>\n",
       "    </tr>\n",
       "  </thead>\n",
       "  <tbody>\n",
       "    <tr>\n",
       "      <th>0</th>\n",
       "      <td>A_all_close</td>\n",
       "      <td>0.0500</td>\n",
       "      <td>0.05</td>\n",
       "      <td>0.614451</td>\n",
       "      <td>0.485994</td>\n",
       "      <td>0.562919</td>\n",
       "      <td>0.446344</td>\n",
       "      <td>0.003041</td>\n",
       "      <td>0.116000</td>\n",
       "      <td>-0.004189</td>\n",
       "      <td>0.090516</td>\n",
       "    </tr>\n",
       "    <tr>\n",
       "      <th>1</th>\n",
       "      <td>B_all_diff</td>\n",
       "      <td>0.8000</td>\n",
       "      <td>0.20</td>\n",
       "      <td>0.586752</td>\n",
       "      <td>0.465482</td>\n",
       "      <td>0.562919</td>\n",
       "      <td>0.446344</td>\n",
       "      <td>0.001210</td>\n",
       "      <td>0.059028</td>\n",
       "      <td>-0.001545</td>\n",
       "      <td>0.045646</td>\n",
       "    </tr>\n",
       "    <tr>\n",
       "      <th>2</th>\n",
       "      <td>C_kf_diff</td>\n",
       "      <td>0.0001</td>\n",
       "      <td>1.00</td>\n",
       "      <td>2.465235</td>\n",
       "      <td>2.301852</td>\n",
       "      <td>0.562919</td>\n",
       "      <td>0.446344</td>\n",
       "      <td>-0.095359</td>\n",
       "      <td>2.572497</td>\n",
       "      <td>-0.530160</td>\n",
       "      <td>2.290363</td>\n",
       "    </tr>\n",
       "  </tbody>\n",
       "</table>\n",
       "</div>"
      ],
      "text/plain": [
       "      scenario       q     r  RMSE_x(KF,truth)  RMSE_y(KF,truth)  \\\n",
       "0  A_all_close  0.0500  0.05          0.614451          0.485994   \n",
       "1   B_all_diff  0.8000  0.20          0.586752          0.465482   \n",
       "2    C_kf_diff  0.0001  1.00          2.465235          2.301852   \n",
       "\n",
       "   RMSE_x(meas,truth)  RMSE_y(meas,truth)  res_x_mean  res_x_std  res_y_mean  \\\n",
       "0            0.562919            0.446344    0.003041   0.116000   -0.004189   \n",
       "1            0.562919            0.446344    0.001210   0.059028   -0.001545   \n",
       "2            0.562919            0.446344   -0.095359   2.572497   -0.530160   \n",
       "\n",
       "   res_y_std  \n",
       "0   0.090516  \n",
       "1   0.045646  \n",
       "2   2.290363  "
      ]
     },
     "execution_count": 28,
     "metadata": {},
     "output_type": "execute_result"
    }
   ],
   "source": [
    "scenarios = {\n",
    "    \"A_all_close\": {\"q\": 0.05, \"r\": 0.05},   # medición ≈ KF ≈ truth\n",
    "    \"B_all_diff\":  {\"q\": 0.8,  \"r\": 0.2 },   # los tres distintos\n",
    "    \"C_kf_diff\":   {\"q\": 1e-4, \"r\": 1.0 },   # meas ≈ truth pero KF distinto\n",
    "}\n",
    "\n",
    "rows = []\n",
    "for name, prm in scenarios.items():\n",
    "    xs, Ps, innov = run_kf_series(z, F, H, prm[\"q\"], prm[\"r\"], x0, P0, dt=dt)\n",
    "    x_kf, y_kf = xs[:,0], xs[:,2]\n",
    "    rows.append({\n",
    "        \"scenario\": name,\n",
    "        \"q\": prm[\"q\"], \"r\": prm[\"r\"],\n",
    "        \"RMSE_x(KF,truth)\": rmse(x_kf, truth[:,0]),\n",
    "        \"RMSE_y(KF,truth)\": rmse(y_kf, truth[:,1]),\n",
    "        \"RMSE_x(meas,truth)\": rmse(z[:,0], truth[:,0]),\n",
    "        \"RMSE_y(meas,truth)\": rmse(z[:,1], truth[:,1]),\n",
    "        \"res_x_mean\": float((z[:,0]-x_kf).mean()),\n",
    "        \"res_x_std\":  float((z[:,0]-x_kf).std()),\n",
    "        \"res_y_mean\": float((z[:,1]-y_kf).mean()),\n",
    "        \"res_y_std\":  float((z[:,1]-y_kf).std()),\n",
    "    })\n",
    "summary_e2 = pd.DataFrame(rows)\n",
    "summary_e2"
   ]
  }
 ],
 "metadata": {
  "kernelspec": {
   "display_name": "maestria",
   "language": "python",
   "name": "python3"
  },
  "language_info": {
   "codemirror_mode": {
    "name": "ipython",
    "version": 3
   },
   "file_extension": ".py",
   "mimetype": "text/x-python",
   "name": "python",
   "nbconvert_exporter": "python",
   "pygments_lexer": "ipython3",
   "version": "3.10.16"
  }
 },
 "nbformat": 4,
 "nbformat_minor": 5
}
